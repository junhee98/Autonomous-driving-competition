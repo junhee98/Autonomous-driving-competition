{
 "cells": [
  {
   "cell_type": "code",
   "execution_count": 1,
   "id": "63abe50d",
   "metadata": {},
   "outputs": [
    {
     "name": "stderr",
     "output_type": "stream",
     "text": [
      "Using TensorFlow backend.\n"
     ]
    }
   ],
   "source": [
    "import pandas as pd \n",
    "import numpy as np\n",
    "\n",
    "from sklearn.model_selection import train_test_split\n",
    "from keras.models import Sequential\n",
    "from keras.optimizers import Adam\n",
    "from keras.callbacks import ModelCheckpoint\n",
    "from utils import INPUT_SHAPE, batch_generator\n",
    "import argparse\n",
    "import os\n",
    "\n",
    "from  keras import Model\n",
    "from keras.utils.vis_utils import plot_model\n",
    "import matplotlib.pyplot as plt\n",
    "import keras\n",
    "\n",
    "from keras.layers import LSTM, Lambda, Conv2D, MaxPooling2D, Dropout, Dense, Flatten, Reshape,concatenate,Input\n"
   ]
  },
  {
   "cell_type": "code",
   "execution_count": null,
   "id": "31d924f3",
   "metadata": {},
   "outputs": [],
   "source": [
    "\n",
    "\n",
    "\n"
   ]
  },
  {
   "cell_type": "code",
   "execution_count": 2,
   "id": "24d46ba0",
   "metadata": {},
   "outputs": [],
   "source": [
    "def load_data():\n",
    "    test_size =0.2\n",
    "    data_dir = '/home/seheekim/Desktop/autonomous/cloning/data_raw'\n",
    "    \"\"\"\n",
    "    Load training data and split it into training and validation set\n",
    "    \"\"\"\n",
    "    #reads CSV file into a single dataframe variable\n",
    "    data_df = pd.read_csv(os.path.join(os.getcwd(), data_dir, '/home/seheekim/Desktop/autonomous/cloning/data.csv'), \n",
    "                          names=['image_dir','speed','angle'])\n",
    "\n",
    "    #yay dataframes, we can select rows and columns by their names\n",
    "    #we'll store the camera images as our input data\n",
    "    X = data_df['image_dir'].values\n",
    "    #and our steering commands as our output data\n",
    "    y = data_df['angle'].values\n",
    "\n",
    "    #now we can split the data into a training (80), testing(20), and validation set\n",
    "    #thanks scikit learn\n",
    "    X_train, X_valid, y_train, y_valid = train_test_split(X, y, test_size=test_size, random_state=0)\n",
    "\n",
    "    return X_train, X_valid, y_train, y_valid"
   ]
  },
  {
   "cell_type": "code",
   "execution_count": 3,
   "id": "ca195218",
   "metadata": {},
   "outputs": [
    {
     "name": "stdout",
     "output_type": "stream",
     "text": [
      "18071\n"
     ]
    }
   ],
   "source": [
    "X_train, X_valid, y_train, y_valid = load_data()\n",
    "\n",
    "\n",
    "\n",
    "print(X_train.size)"
   ]
  },
  {
   "cell_type": "code",
   "execution_count": 4,
   "id": "cc8addf2",
   "metadata": {},
   "outputs": [],
   "source": [
    "def build_model(): \n",
    "    model = Sequential()\n",
    "    model.add(Lambda(lambda x: x/127.5-1.0, input_shape=INPUT_SHAPE))\n",
    "    model.add(Conv2D(24, 5, 5, activation='elu', subsample=(2, 2)))\n",
    "    model.add(Conv2D(36, 5, 5, activation='elu', subsample=(2, 2)))\n",
    "    model.add(Conv2D(48, 5, 5, activation='elu', subsample=(2, 2)))\n",
    "    model.add(Conv2D(64, 3, 3, activation='elu'))\n",
    "    model.add(Conv2D(64, 3, 3, activation='elu'))\n",
    "    model.add(Dropout(0.5))\n",
    "    model.add(Flatten())\n",
    "    model.add(Dense(100, activation='elu'))\n",
    "    model.add(Dense(50, activation='elu'))\n",
    "    model.add(Dense(10, activation='elu'))\n",
    "    model.add(keras.layers.Reshape((1, 10)))\n",
    "    # First layer specifies input_shape and returns sequences\n",
    "    model.add(LSTM(units=100, return_sequences=True))\n",
    "    # Dropout layer to prevent overfitting\n",
    "    model.add(Dropout(rate=0.1))\n",
    "    # Last layer doesn't return sequences (middle layers should return sequences)\n",
    "    model.add(LSTM(units=100))\n",
    "    model.add(Dropout(rate=0.1))\n",
    "    # Dense layer to return prediction\n",
    "    model.add(Dense(1))\n",
    "    model.summary()\n",
    "\n",
    "    return model"
   ]
  },
  {
   "cell_type": "code",
   "execution_count": 5,
   "id": "7245c2ab",
   "metadata": {},
   "outputs": [],
   "source": [
    "def train_model(model,  X_train, X_valid, y_train, y_valid):\n",
    "    save_best_only = True\n",
    "    learning_rate= 1.0e-4\n",
    "    data_dir= '/home/seheekim/Desktop/autonomous/cloning/data_raw'\n",
    "    print(X_train.shape)\n",
    "    batch_size = 40\n",
    "    samples_per_epoch = 20000\n",
    "    nb_epoch = 10\n",
    "    checkpoint = ModelCheckpoint('doyong_model-{epoch:03d}.h5',\n",
    "                                 monitor='val_loss',\n",
    "                                 verbose=0,\n",
    "                                 save_best_only=save_best_only,\n",
    "                                 mode='auto')\n",
    "\n",
    "    \n",
    "    #gradient descent\n",
    "    model.compile(loss='mean_squared_error', optimizer=Adam(lr=learning_rate))\n",
    "\n",
    "    #Fits the model on data generated batch-by-batch by a Python generator.\n",
    "\n",
    "    \n",
    "    result =  model.fit_generator(batch_generator(data_dir, X_train, y_train, batch_size, True),\n",
    "                        samples_per_epoch,\n",
    "                        nb_epoch,\n",
    "                        max_q_size=1,\n",
    "                        validation_data=batch_generator(data_dir, X_valid, y_valid, batch_size, False),\n",
    "                        nb_val_samples=len(X_valid),\n",
    "                        callbacks=[checkpoint],\n",
    "                        verbose=1)\n",
    "    # Plot loss and save model\n",
    "    plt.semilogy(result.history['loss'],label='loss')\n",
    "    plt.semilogy(result.history['val_loss'],label='val_loss')\n",
    "    plt.legend()"
   ]
  },
  {
   "cell_type": "code",
   "execution_count": 6,
   "id": "c22da017",
   "metadata": {},
   "outputs": [],
   "source": [
    "def main():\n",
    "    \"\"\"\n",
    "    Load train/validation data set and train the model\n",
    "    \"\"\"\n",
    "\n",
    "\n",
    "    #load data\n",
    "    data = load_data()\n",
    "    #build model\n",
    "    model = build_model()\n",
    "    #train model on data, it saves as model.h5 \n",
    "    train_model(model, *data)"
   ]
  },
  {
   "cell_type": "code",
   "execution_count": 7,
   "id": "ff2b072d",
   "metadata": {},
   "outputs": [
    {
     "name": "stderr",
     "output_type": "stream",
     "text": [
      "/home/walid/.local/lib/python3.6/site-packages/ipykernel_launcher.py:4: UserWarning: Update your `Conv2D` call to the Keras 2 API: `Conv2D(24, (5, 5), activation=\"elu\", strides=(2, 2))`\n",
      "  after removing the cwd from sys.path.\n",
      "/home/walid/.local/lib/python3.6/site-packages/ipykernel_launcher.py:5: UserWarning: Update your `Conv2D` call to the Keras 2 API: `Conv2D(36, (5, 5), activation=\"elu\", strides=(2, 2))`\n",
      "  \"\"\"\n",
      "/home/walid/.local/lib/python3.6/site-packages/ipykernel_launcher.py:6: UserWarning: Update your `Conv2D` call to the Keras 2 API: `Conv2D(48, (5, 5), activation=\"elu\", strides=(2, 2))`\n",
      "  \n",
      "/home/walid/.local/lib/python3.6/site-packages/ipykernel_launcher.py:7: UserWarning: Update your `Conv2D` call to the Keras 2 API: `Conv2D(64, (3, 3), activation=\"elu\")`\n",
      "  import sys\n",
      "/home/walid/.local/lib/python3.6/site-packages/ipykernel_launcher.py:8: UserWarning: Update your `Conv2D` call to the Keras 2 API: `Conv2D(64, (3, 3), activation=\"elu\")`\n",
      "  \n"
     ]
    },
    {
     "name": "stdout",
     "output_type": "stream",
     "text": [
      "Model: \"sequential_1\"\n",
      "_________________________________________________________________\n",
      "Layer (type)                 Output Shape              Param #   \n",
      "=================================================================\n",
      "lambda_1 (Lambda)            (None, 200, 200, 3)       0         \n",
      "_________________________________________________________________\n",
      "conv2d_1 (Conv2D)            (None, 98, 98, 24)        1824      \n",
      "_________________________________________________________________\n",
      "conv2d_2 (Conv2D)            (None, 47, 47, 36)        21636     \n",
      "_________________________________________________________________\n",
      "conv2d_3 (Conv2D)            (None, 22, 22, 48)        43248     \n",
      "_________________________________________________________________\n",
      "conv2d_4 (Conv2D)            (None, 20, 20, 64)        27712     \n",
      "_________________________________________________________________\n",
      "conv2d_5 (Conv2D)            (None, 18, 18, 64)        36928     \n",
      "_________________________________________________________________\n",
      "dropout_1 (Dropout)          (None, 18, 18, 64)        0         \n",
      "_________________________________________________________________\n",
      "flatten_1 (Flatten)          (None, 20736)             0         \n",
      "_________________________________________________________________\n",
      "dense_1 (Dense)              (None, 100)               2073700   \n",
      "_________________________________________________________________\n",
      "dense_2 (Dense)              (None, 50)                5050      \n",
      "_________________________________________________________________\n",
      "dense_3 (Dense)              (None, 10)                510       \n",
      "_________________________________________________________________\n",
      "reshape_1 (Reshape)          (None, 1, 10)             0         \n",
      "_________________________________________________________________\n",
      "lstm_1 (LSTM)                (None, 1, 100)            44400     \n",
      "_________________________________________________________________\n",
      "dropout_2 (Dropout)          (None, 1, 100)            0         \n",
      "_________________________________________________________________\n",
      "lstm_2 (LSTM)                (None, 100)               80400     \n",
      "_________________________________________________________________\n",
      "dropout_3 (Dropout)          (None, 100)               0         \n",
      "_________________________________________________________________\n",
      "dense_4 (Dense)              (None, 1)                 101       \n",
      "=================================================================\n",
      "Total params: 2,335,509\n",
      "Trainable params: 2,335,509\n",
      "Non-trainable params: 0\n",
      "_________________________________________________________________\n",
      "(18071,)\n"
     ]
    },
    {
     "name": "stderr",
     "output_type": "stream",
     "text": [
      "/home/walid/.local/lib/python3.6/site-packages/ipykernel_launcher.py:29: UserWarning: The semantics of the Keras 2 argument `steps_per_epoch` is not the same as the Keras 1 argument `samples_per_epoch`. `steps_per_epoch` is the number of batches to draw from the generator at each epoch. Basically steps_per_epoch = samples_per_epoch/batch_size. Similarly `nb_val_samples`->`validation_steps` and `val_samples`->`steps` arguments have changed. Update your method calls accordingly.\n",
      "/home/walid/.local/lib/python3.6/site-packages/ipykernel_launcher.py:29: UserWarning: Update your `fit_generator` call to the Keras 2 API: `fit_generator(<generator..., 20000, 10, validation_data=<generator..., callbacks=[<keras.ca..., verbose=1, validation_steps=4518, max_queue_size=1)`\n"
     ]
    },
    {
     "name": "stdout",
     "output_type": "stream",
     "text": [
      "Epoch 1/10\n",
      "20000/20000 [==============================] - 8216s 411ms/step - loss: 25.2376 - val_loss: 32.2287\n",
      "Epoch 2/10\n",
      "20000/20000 [==============================] - 8258s 413ms/step - loss: 18.8573 - val_loss: 7.3852\n",
      "Epoch 3/10\n",
      "20000/20000 [==============================] - 8255s 413ms/step - loss: 16.9132 - val_loss: 5.2164\n",
      "Epoch 4/10\n",
      "20000/20000 [==============================] - 8215s 411ms/step - loss: 16.2246 - val_loss: 8.2676\n",
      "Epoch 5/10\n",
      "20000/20000 [==============================] - 8214s 411ms/step - loss: 15.5880 - val_loss: 21.6050\n",
      "Epoch 6/10\n",
      "20000/20000 [==============================] - 8209s 410ms/step - loss: 15.1387 - val_loss: 8.3243\n",
      "Epoch 7/10\n",
      "20000/20000 [==============================] - 8210s 410ms/step - loss: 14.7619 - val_loss: 3.9235\n",
      "Epoch 8/10\n",
      "20000/20000 [==============================] - 8213s 411ms/step - loss: 14.3424 - val_loss: 1.3600\n",
      "Epoch 9/10\n",
      "20000/20000 [==============================] - 8217s 411ms/step - loss: 14.2987 - val_loss: 6.9648\n",
      "Epoch 10/10\n",
      "20000/20000 [==============================] - 8254s 413ms/step - loss: 13.7492 - val_loss: 1.2636\n"
     ]
    },
    {
     "data": {
      "image/png": "[encoded data removed]",
      "text/plain": [
       "<Figure size 432x288 with 1 Axes>"
      ]
     },
     "metadata": {
      "needs_background": "light"
     },
     "output_type": "display_data"
    }
   ],
   "source": [
    "if __name__ == '__main__':\n",
    "    main()"
   ]
  },
  {
   "cell_type": "code",
   "execution_count": null,
   "id": "f6a1ae79",
   "metadata": {},
   "outputs": [],
   "source": []
  }
 ],
 "metadata": {
  "kernelspec": {
   "display_name": "Python 3",
   "language": "python",
   "name": "python3"
  },
  "language_info": {
   "codemirror_mode": {
    "name": "ipython",
    "version": 3
   },
   "file_extension": ".py",
   "mimetype": "text/x-python",
   "name": "python",
   "nbconvert_exporter": "python",
   "pygments_lexer": "ipython3",
   "version": "3.6.9"
  }
 },
 "nbformat": 4,
 "nbformat_minor": 5
}
